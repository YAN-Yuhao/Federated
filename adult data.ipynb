{
 "cells": [
  {
   "cell_type": "code",
   "execution_count": 41,
   "id": "8234f849",
   "metadata": {},
   "outputs": [],
   "source": [
    "%matplotlib inline\n",
    "import random\n",
    "import pandas as pd\n",
    "import pylab\n",
    "import numpy as np\n",
    "import sklearn\n",
    "from sklearn import linear_model\n",
    "import sklearn.preprocessing as preprocessing\n",
    "import math\n",
    "import cvxpy as cp\n",
    "def data_transform(df):\n",
    "    \"\"\"Normalize features.\"\"\"\n",
    "    binary_data = pd.get_dummies(df)\n",
    "    feature_cols = binary_data[binary_data.columns[:-2]]\n",
    "    scaler = preprocessing.StandardScaler()\n",
    "    data = pd.DataFrame(scaler.fit_transform(feature_cols), columns=feature_cols.columns)\n",
    "    return data"
   ]
  },
  {
   "cell_type": "code",
   "execution_count": 2,
   "id": "42a54594",
   "metadata": {},
   "outputs": [
    {
     "data": {
      "text/plain": [
       "'1.4.4'"
      ]
     },
     "execution_count": 2,
     "metadata": {},
     "output_type": "execute_result"
    }
   ],
   "source": [
    "pd.__version__"
   ]
  },
  {
   "cell_type": "code",
   "execution_count": 3,
   "id": "4bd192e9",
   "metadata": {},
   "outputs": [],
   "source": [
    "features = [\"Age\", \"Workclass\", \"fnlwgt\", \"Education\", \"Education-Num\", \"Martial Status\",\n",
    "        \"Occupation\", \"Relationship\", \"Race\", \"Sex\", \"Capital Gain\", \"Capital Loss\",\n",
    "        \"Hours per week\", \"Country\", \"Target\"] "
   ]
  },
  {
   "cell_type": "code",
   "execution_count": 4,
   "id": "ec9cc0dc",
   "metadata": {},
   "outputs": [],
   "source": [
    "train_url = 'adult/adult.data'\n",
    "test_url = 'adult/adult.test'\n",
    "\n",
    "original_train = pd.read_csv(train_url, names=features, sep=r'\\s*,\\s*', \n",
    "                             engine='python', na_values=\"?\")\n",
    "original_test = pd.read_csv(test_url, names=features, sep=r'\\s*,\\s*', \n",
    "                            engine='python', na_values=\"?\", skiprows=1)"
   ]
  },
  {
   "cell_type": "code",
   "execution_count": 5,
   "id": "64490c10",
   "metadata": {},
   "outputs": [],
   "source": [
    "num_train = len(original_train)\n",
    "original = pd.concat([original_train, original_test])\n",
    "roc_original = original\n",
    "labels = original['Target']\n",
    "labels = labels.replace('<=50K', 0).replace('>50K', 1)\n",
    "labels = labels.replace('<=50K.', 0).replace('>50K.', 1)\n",
    "sensitive = original['Sex']\n",
    "sensitive = sensitive.replace('Male', 0).replace('Female', 1)\n",
    "# Redundant column\n",
    "del original[\"Education\"]\n",
    "# Remove target variable\n",
    "del original[\"Target\"]\n",
    "#del original[\"Sex\"]\n"
   ]
  },
  {
   "cell_type": "code",
   "execution_count": 6,
   "id": "df3f4f73",
   "metadata": {},
   "outputs": [],
   "source": [
    "#binary_data = pd.get_dummies(original)\n",
    "#data=pd.concat([binary_data, sensitive], axis=1)\n",
    "data = data_transform(original)\n",
    "\n",
    "train_data = data[:num_train].values\n",
    "train_labels = labels[:num_train].values\n",
    "test_data = data[num_train:].values\n",
    "test_labels = labels[num_train:].values\n",
    "p=train_data.shape[1]"
   ]
  },
  {
   "cell_type": "code",
   "execution_count": 7,
   "id": "7dab9f2c",
   "metadata": {},
   "outputs": [],
   "source": [
    "def loss(X,Y,theta):\n",
    "    eta=np.dot(X,theta)\n",
    "    return -(np.dot(Y,eta)-np.sum(np.log(1+np.exp(eta))))\n",
    "\n",
    "def f_grad(X,Y,theta):\n",
    "    mu=1/(1+np.exp(-np.dot(X,theta)))\n",
    "    return (np.dot(X.T,Y-mu))\n",
    "\n",
    "def predict(theta,X):\n",
    "    y =1/(1+np.exp(-np.dot(X,theta)))\n",
    "    return np.array((y.T>0.5).reshape(-1)).astype(int)\n",
    "\n",
    "def constraints(X,theta,z):\n",
    "    length=z.shape\n",
    "    return np.array([np.dot(z,np.dot(X,theta))/length-c,-np.dot(z,np.dot(X,theta))/length-c]).reshape(-1)\n",
    "\n",
    "def g_grad(X,z):\n",
    "    length=z.shape\n",
    "    return np.array([np.dot(z,X)/length,-np.dot(z,X)/length])"
   ]
  },
  {
   "cell_type": "code",
   "execution_count": 8,
   "id": "a34af995",
   "metadata": {},
   "outputs": [],
   "source": [
    "theta_0=np.ones(p)\n",
    "Z=sensitive.values\n",
    "Z=Z-Z.mean()\n",
    "Z_train=Z[:num_train]\n",
    "Z_test=Z[num_train:]\n",
    "c=1.0"
   ]
  },
  {
   "cell_type": "code",
   "execution_count": null,
   "id": "d205ae4f",
   "metadata": {},
   "outputs": [],
   "source": []
  },
  {
   "cell_type": "code",
   "execution_count": null,
   "id": "e18ab8e5",
   "metadata": {},
   "outputs": [],
   "source": []
  },
  {
   "cell_type": "code",
   "execution_count": 54,
   "id": "da69ad22",
   "metadata": {},
   "outputs": [],
   "source": [
    "def determinstic(X,Y,z,T,C):\n",
    "    lam=np.array([1.0,1.0])\n",
    "    theta=theta_p=theta_pp=theta_0\n",
    "    tau=C/math.sqrt(T)\n",
    "    eta=C/math.sqrt(T)\n",
    "    for i in range(T):\n",
    "        u=2*(constraints(X,theta_p,z)+np.dot(g_grad(X,z),(theta-theta_p)))-(constraints(X,theta_pp,z)+np.dot(g_grad(X,z),(theta_p-theta_pp)))\n",
    "        #u=2*constraints(X,theta,z)-constraints(X,theta_p,z)\n",
    "        lam=lam+tau*u\n",
    "        theta_pp=theta_p\n",
    "        theta_p=theta\n",
    "        theta=theta+eta*(f_grad(X,Y,theta)+np.dot(lam,g_grad(X,z)))\n",
    "        theta=theta+eta*f_grad(X,Y,theta)\n",
    "        if(i%10==0):\n",
    "            pred=predict(theta,test_data)\n",
    "            print(sklearn.metrics.accuracy_score(pred,test_labels))\n",
    "            print(constraints(test_data,theta,Z_test))\n",
    "        \n",
    "    return theta\n",
    "                                                                    "
   ]
  },
  {
   "cell_type": "code",
   "execution_count": 13,
   "id": "9e6976ed",
   "metadata": {},
   "outputs": [
    {
     "name": "stdout",
     "output_type": "stream",
     "text": [
      "0.7131625821509735\n",
      "[-1.55486726 -0.44513274]\n",
      "0.728579325594251\n",
      "[-1.29185285 -0.70814715]\n",
      "0.7695473251028807\n",
      "[-1.29499323 -0.70500677]\n",
      "0.7967569559609361\n",
      "[-1.3079621 -0.6920379]\n",
      "0.809225477550519\n",
      "[-1.32127949 -0.67872051]\n",
      "0.8163503470302806\n",
      "[-1.33311853 -0.66688147]\n",
      "0.8200970456360175\n",
      "[-1.34381262 -0.65618738]\n",
      "0.822369633314907\n",
      "[-1.35356556 -0.64643444]\n",
      "0.8245807997051778\n",
      "[-1.36236115 -0.63763885]\n",
      "0.8256249616116946\n",
      "[-1.37022416 -0.62977584]\n",
      "0.8264234383637369\n",
      "[-1.37722346 -0.62277654]\n",
      "0.826914808672686\n",
      "[-1.38344352 -0.61655648]\n",
      "0.827406178981635\n",
      "[-1.3889691 -0.6110309]\n",
      "0.8277132854247282\n",
      "[-1.39387903 -0.60612097]\n",
      "0.8283889195995332\n",
      "[-1.39824433 -0.60175567]\n",
      "0.8291259750629568\n",
      "[-1.40212796 -0.59787204]\n",
      "0.8288188686198636\n",
      "[-1.40558545 -0.59441455]\n",
      "0.8288802899084823\n",
      "[-1.40866558 -0.59133442]\n",
      "0.8294945027946686\n",
      "[-1.41141124 -0.58858876]\n",
      "0.8299858731036177\n",
      "[-1.41386015 -0.58613985]\n"
     ]
    }
   ],
   "source": [
    "Beta=determinstic(train_data,train_labels,Z_train,200,0.001)"
   ]
  },
  {
   "cell_type": "code",
   "execution_count": 14,
   "id": "500cd10d",
   "metadata": {},
   "outputs": [
    {
     "name": "stdout",
     "output_type": "stream",
     "text": [
      "0.8299858731036177\n"
     ]
    }
   ],
   "source": [
    "pred=predict(Beta,test_data)\n",
    "print(sklearn.metrics.accuracy_score(pred,test_labels))"
   ]
  },
  {
   "cell_type": "code",
   "execution_count": 45,
   "id": "96842b82",
   "metadata": {},
   "outputs": [],
   "source": [
    "def stochastic(X_data,Y_data,z_data,C,Batch,Epoch):\n",
    "    lam=np.array([1.0,1.0])\n",
    "    theta=theta_p=theta_pp=theta_0\n",
    "    tau=C/math.sqrt(Epoch)\n",
    "    eta=C/math.sqrt(Epoch)\n",
    "    for i in range(Epoch):\n",
    "        rd=random.randint(0,num_train)\n",
    "        if rd+Batch>num_train:\n",
    "            X=np.concatenate((X_data[rd:num_train],X_data[0:Batch+rd-num_train]),axis=0)\n",
    "            Y=np.concatenate((Y_data[rd:num_train],Y_data[0:Batch+rd-num_train]),axis=0)\n",
    "            z=np.concatenate((z_data[rd:num_train],z_data[0:Batch+rd-num_train]),axis=0)\n",
    "        X=X_data[rd:rd+Batch]\n",
    "        Y=Y_data[rd:rd+Batch]\n",
    "        z=z_data[rd:rd+Batch]\n",
    "        u=2*(constraints(X,theta_p,z)+np.dot(g_grad(X,z),(theta-theta_p)))-(constraints(X,theta_pp,z)+np.dot(g_grad(X,z),(theta_p-theta_pp)))\n",
    "        lam=lam+tau*u\n",
    "        theta_pp=theta_p\n",
    "        theta_p=theta\n",
    "        theta=theta+eta*(f_grad(X,Y,theta)+np.dot(lam,g_grad(X,z)))\n",
    "        theta=theta+eta*f_grad(X,Y,theta)\n",
    "        if i%100==0:\n",
    "            pred=predict(theta,test_data)\n",
    "            print(sklearn.metrics.accuracy_score(pred,test_labels))\n",
    "            print(constraints(test_data,theta,Z_test))\n",
    "        \n",
    "    return theta"
   ]
  },
  {
   "cell_type": "code",
   "execution_count": 57,
   "id": "730cd48f",
   "metadata": {
    "scrolled": true
   },
   "outputs": [
    {
     "name": "stdout",
     "output_type": "stream",
     "text": [
      "0.6443093176094834\n",
      "[-0.99912627 -1.00087373]\n",
      "0.7211473496713962\n",
      "[-1.34291347 -0.65708653]\n",
      "0.7278422701308274\n",
      "[-1.2894367 -0.7105633]\n",
      "0.7463914992936552\n",
      "[-1.25239932 -0.74760068]\n",
      "0.7535777900620355\n",
      "[-1.31154237 -0.68845763]\n",
      "0.7681960567532706\n",
      "[-1.28258401 -0.71741599]\n",
      "0.7804803144769977\n",
      "[-1.29220446 -0.70779554]\n",
      "0.7864381794730053\n",
      "[-1.29051921 -0.70948079]\n",
      "0.7925803083348688\n",
      "[-1.34737258 -0.65262742]\n",
      "0.7973711688471224\n",
      "[-1.35881576 -0.64118424]\n",
      "0.8074442601805786\n",
      "[-1.35045049 -0.64954951]\n",
      "0.8036361402862232\n",
      "[-1.34866489 -0.65133511]\n",
      "0.8125422271359253\n",
      "[-1.34510806 -0.65489194]\n",
      "0.8129107548676371\n",
      "[-1.33977485 -0.66022515]\n",
      "0.8147533935261961\n",
      "[-1.35322739 -0.64677261]\n",
      "0.8137092316196793\n",
      "[-1.38255508 -0.61744492]\n",
      "0.8190528837295007\n",
      "[-1.36561234 -0.63438766]\n",
      "0.8214483139856275\n",
      "[-1.34086204 -0.65913796]\n",
      "0.8204041520791107\n",
      "[-1.37372372 -0.62627628]\n",
      "0.8190528837295007\n",
      "[-1.38491712 -0.61508288]\n",
      "0.8186229347091702\n",
      "[-1.35038398 -0.64961602]\n",
      "0.8223082120262883\n",
      "[-1.40061083 -0.59938917]\n",
      "0.8199127817701616\n",
      "[-1.38535377 -0.61464623]\n",
      "0.8213868926970088\n",
      "[-1.39871538 -0.60128462]\n",
      "0.8200356243473989\n",
      "[-1.37712325 -0.62287675]\n",
      "0.8258092254775505\n",
      "[-1.37911845 -0.62088155]\n",
      "0.8229224249124747\n",
      "[-1.4089446 -0.5910554]\n",
      "0.821693999140102\n",
      "[-1.42401066 -0.57598934]\n",
      "0.8257478041889319\n",
      "[-1.36652663 -0.63347337]\n",
      "0.8226153184693815\n",
      "[-1.39582502 -0.60417498]\n",
      "0.8261163319206437\n",
      "[-1.39140712 -0.60859288]\n",
      "0.8206498372335852\n",
      "[-1.41174901 -0.58825099]\n",
      "0.8227381610466188\n",
      "[-1.46425919 -0.53574081]\n",
      "0.8240894293962288\n",
      "[-1.42265597 -0.57734403]\n",
      "0.8234137952214238\n",
      "[-1.43776074 -0.56223926]\n",
      "0.8251335913027456\n",
      "[-1.44442658 -0.55557342]\n",
      "0.8270990725385419\n",
      "[-1.41320209 -0.58679791]\n",
      "0.8232909526441865\n",
      "[-1.42356841 -0.57643159]\n",
      "0.8263620170751182\n",
      "[-1.47629488 -0.52370512]\n",
      "0.8258706467661692\n",
      "[-1.43714202 -0.56285798]\n",
      "0.8223082120262883\n",
      "[-1.48365379 -0.51634621]\n",
      "0.8255021190344574\n",
      "[-1.46554395 -0.53445605]\n",
      "0.8258092254775505\n",
      "[-1.41911357 -0.58088643]\n",
      "0.8273447576930164\n",
      "[-1.44236456 -0.55763544]\n",
      "0.8294945027946686\n",
      "[-1.45267261 -0.54732739]\n",
      "0.8256863829003133\n",
      "[-1.47822249 -0.52177751]\n",
      "0.8222467907376697\n",
      "[-1.54835801 -0.45164199]\n",
      "0.8266077022295928\n",
      "[-1.44341537 -0.55658463]\n",
      "0.8225538971807629\n",
      "[-1.48401133 -0.51598867]\n",
      "0.8295559240832873\n",
      "[-1.48799985 -0.51200015]\n",
      "0.8288802899084823\n",
      "[-1.47235154 -0.52764846]\n",
      "0.8261777532092623\n",
      "[-1.50596641 -0.49403359]\n",
      "0.8272833364043978\n",
      "[-1.44945447 -0.55054553]\n",
      "0.8243351145507033\n",
      "[-1.45794302 -0.54205698]\n",
      "0.8299858731036177\n",
      "[-1.46580508 -0.53419492]\n",
      "0.8242736932620847\n",
      "[-1.53937829 -0.46062171]\n",
      "0.8280203918678214\n",
      "[-1.50973242 -0.49026758]\n",
      "0.8284503408881518\n",
      "[-1.46124954 -0.53875046]\n",
      "0.8298630305263804\n",
      "[-1.47719615 -0.52280385]\n",
      "0.8270990725385419\n",
      "[-1.51162206 -0.48837794]\n",
      "0.8266691235182114\n",
      "[-1.5269367 -0.4730633]\n",
      "0.8292488176401941\n",
      "[-1.49219485 -0.50780515]\n",
      "0.8266691235182114\n",
      "[-1.48731219 -0.51268781]\n",
      "0.8293102389288127\n",
      "[-1.47296747 -0.52703253]\n",
      "0.8251335913027456\n",
      "[-1.51016551 -0.48983449]\n",
      "0.8303544008353295\n",
      "[-1.51513208 -0.48486792]\n",
      "0.8267919660954487\n",
      "[-1.49981767 -0.50018233]\n",
      "0.8253792764572201\n",
      "[-1.52510959 -0.47489041]\n",
      "0.8294945027946686\n",
      "[-1.49105051 -0.50894949]\n",
      "0.824887906148271\n",
      "[-1.51235194 -0.48764806]\n",
      "0.8267919660954487\n",
      "[-1.53028443 -0.46971557]\n",
      "0.8323198820711258\n",
      "[-1.49159726 -0.50840274]\n",
      "0.8290645537743382\n",
      "[-1.48711352 -0.51288648]\n",
      "0.8295559240832873\n",
      "[-1.51809402 -0.48190598]\n",
      "0.8285117621767705\n",
      "[-1.48124721 -0.51875279]\n",
      "0.8267919660954487\n",
      "[-1.5357085 -0.4642915]\n",
      "0.8254406977458387\n",
      "[-1.52604984 -0.47395016]\n",
      "0.8267305448068301\n",
      "[-1.54820953 -0.45179047]\n",
      "0.8267919660954487\n",
      "[-1.55874994 -0.44125006]\n",
      "0.8272833364043978\n",
      "[-1.50028297 -0.49971703]\n",
      "0.8278361280019655\n",
      "[-1.53189535 -0.46810465]\n",
      "0.8294945027946686\n",
      "[-1.53289604 -0.46710396]\n",
      "0.8232909526441865\n",
      "[-1.60759454 -0.39240546]\n",
      "0.8277747067133469\n",
      "[-1.57944682 -0.42055318]\n",
      "0.8293716602174314\n",
      "[-1.57763817 -0.42236183]\n",
      "0.8296173453719059\n",
      "[-1.52013176 -0.47986824]\n",
      "0.8272833364043978\n",
      "[-1.58131279 -0.41868721]\n",
      "0.827590442847491\n",
      "[-1.54069836 -0.45930164]\n",
      "0.8283889195995332\n",
      "[-1.54780527 -0.45219473]\n",
      "0.8291259750629568\n",
      "[-1.56411432 -0.43588568]\n",
      "0.828757447331245\n",
      "[-1.52160881 -0.47839119]\n",
      "0.828757447331245\n",
      "[-1.53763373 -0.46236627]\n",
      "0.8290031324857196\n",
      "[-1.52487487 -0.47512513]\n",
      "0.8249493274368896\n",
      "[-1.57068616 -0.42931384]\n",
      "0.8249493274368896\n",
      "[-1.59814389 -0.40185611]\n",
      "0.82943308150605\n",
      "[-1.51091554 -0.48908446]\n",
      "0.8281432344450587\n",
      "[-1.58481116 -0.41518884]\n",
      "0.8285117621767705\n",
      "[-1.56835804 -0.43164196]\n",
      "0.828757447331245\n",
      "[-1.5521812 -0.4478188]\n",
      "0.8290645537743382\n",
      "[-1.5734425 -0.4265575]\n"
     ]
    }
   ],
   "source": [
    "Beta=stochastic(train_data,train_labels,Z_train,0.1,100,10000)"
   ]
  },
  {
   "cell_type": "code",
   "execution_count": 35,
   "id": "9abf88ea",
   "metadata": {},
   "outputs": [],
   "source": [
    "beta = cp.Variable(p)\n",
    "log_likelihood = cp.sum(\n",
    "    cp.multiply(labels.values, data.values @ beta) - cp.logistic(data.values @ beta)\n",
    ")\n",
    "problem = cp.Problem(cp.Maximize(log_likelihood/len(data)))"
   ]
  },
  {
   "cell_type": "code",
   "execution_count": 36,
   "id": "e0620d73",
   "metadata": {},
   "outputs": [
    {
     "data": {
      "text/plain": [
       "-0.41776078467316236"
      ]
     },
     "execution_count": 36,
     "metadata": {},
     "output_type": "execute_result"
    }
   ],
   "source": [
    "problem.solve()"
   ]
  },
  {
   "cell_type": "code",
   "execution_count": 49,
   "id": "e8f3595c",
   "metadata": {},
   "outputs": [],
   "source": [
    "b=beta.value"
   ]
  },
  {
   "cell_type": "code",
   "execution_count": 50,
   "id": "9a6f95d9",
   "metadata": {},
   "outputs": [
    {
     "name": "stdout",
     "output_type": "stream",
     "text": [
      "0.8322584607825072\n"
     ]
    }
   ],
   "source": [
    "pred=predict(b,test_data)\n",
    "print(sklearn.metrics.accuracy_score(pred,test_labels))"
   ]
  },
  {
   "cell_type": "code",
   "execution_count": 53,
   "id": "08d79127",
   "metadata": {},
   "outputs": [
    {
     "name": "stdout",
     "output_type": "stream",
     "text": [
      "0.20327206892420407\n"
     ]
    }
   ],
   "source": [
    "print(np.sum((b-Beta)**2)/p)"
   ]
  },
  {
   "cell_type": "code",
   "execution_count": null,
   "id": "07093fd2",
   "metadata": {},
   "outputs": [],
   "source": []
  }
 ],
 "metadata": {
  "kernelspec": {
   "display_name": "Python 3 (ipykernel)",
   "language": "python",
   "name": "python3"
  },
  "language_info": {
   "codemirror_mode": {
    "name": "ipython",
    "version": 3
   },
   "file_extension": ".py",
   "mimetype": "text/x-python",
   "name": "python",
   "nbconvert_exporter": "python",
   "pygments_lexer": "ipython3",
   "version": "3.9.13"
  }
 },
 "nbformat": 4,
 "nbformat_minor": 5
}
