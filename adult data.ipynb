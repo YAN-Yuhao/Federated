{
 "cells": [
  {
   "cell_type": "code",
   "execution_count": 128,
   "id": "8234f849",
   "metadata": {},
   "outputs": [],
   "source": [
    "%matplotlib inline\n",
    "\n",
    "import pandas as pd\n",
    "import pylab\n",
    "import numpy as np\n",
    "import sklearn\n",
    "from sklearn import linear_model\n",
    "import sklearn.preprocessing as preprocessing\n",
    "import math\n",
    "\n",
    "def data_transform(df):\n",
    "    \"\"\"Normalize features.\"\"\"\n",
    "    binary_data = pd.get_dummies(df)\n",
    "    feature_cols = binary_data[binary_data.columns[:-2]]\n",
    "    scaler = preprocessing.StandardScaler()\n",
    "    data = pd.DataFrame(scaler.fit_transform(feature_cols), columns=feature_cols.columns)\n",
    "    return data"
   ]
  },
  {
   "cell_type": "code",
   "execution_count": 129,
   "id": "42a54594",
   "metadata": {},
   "outputs": [
    {
     "data": {
      "text/plain": [
       "'1.4.2'"
      ]
     },
     "execution_count": 129,
     "metadata": {},
     "output_type": "execute_result"
    }
   ],
   "source": [
    "pd.__version__"
   ]
  },
  {
   "cell_type": "code",
   "execution_count": 142,
   "id": "4bd192e9",
   "metadata": {},
   "outputs": [],
   "source": [
    "features = [\"Age\", \"Workclass\", \"fnlwgt\", \"Education\", \"Education-Num\", \"Martial Status\",\n",
    "        \"Occupation\", \"Relationship\", \"Race\", \"Sex\", \"Capital Gain\", \"Capital Loss\",\n",
    "        \"Hours per week\", \"Country\", \"Target\"] "
   ]
  },
  {
   "cell_type": "code",
   "execution_count": 260,
   "id": "ec9cc0dc",
   "metadata": {},
   "outputs": [],
   "source": [
    "train_url = 'adult/adult.data'\n",
    "test_url = 'adult/adult.test'\n",
    "\n",
    "original_train = pd.read_csv(train_url, names=features, sep=r'\\s*,\\s*', \n",
    "                             engine='python', na_values=\"?\")\n",
    "original_test = pd.read_csv(test_url, names=features, sep=r'\\s*,\\s*', \n",
    "                            engine='python', na_values=\"?\", skiprows=1)"
   ]
  },
  {
   "cell_type": "code",
   "execution_count": 261,
   "id": "64490c10",
   "metadata": {},
   "outputs": [],
   "source": [
    "num_train = len(original_train)\n",
    "original = pd.concat([original_train, original_test])\n",
    "roc_original = original\n",
    "labels = original['Target']\n",
    "labels = labels.replace('<=50K', 0).replace('>50K', 1)\n",
    "labels = labels.replace('<=50K.', 0).replace('>50K.', 1)\n",
    "sensitive = original['Sex']\n",
    "sensitive = sensitive.replace('Male', 0).replace('Female', 1)\n",
    "# Redundant column\n",
    "del original[\"Education\"]\n",
    "# Remove target variable\n",
    "del original[\"Target\"]\n",
    "#del original[\"Sex\"]\n"
   ]
  },
  {
   "cell_type": "code",
   "execution_count": 262,
   "id": "df3f4f73",
   "metadata": {},
   "outputs": [],
   "source": [
    "#binary_data = pd.get_dummies(original)\n",
    "#data=pd.concat([binary_data, sensitive], axis=1)\n",
    "data = data_transform(original)\n",
    "\n",
    "train_data = data[:num_train].values\n",
    "train_labels = labels[:num_train].values\n",
    "test_data = data[num_train:].values\n",
    "test_labels = labels[num_train:].values\n",
    "p=train_data.shape[1]"
   ]
  },
  {
   "cell_type": "code",
   "execution_count": 278,
   "id": "7dab9f2c",
   "metadata": {},
   "outputs": [],
   "source": [
    "def loss(X,Y,theta):\n",
    "    eta=np.dot(X,theta)\n",
    "    return -(np.dot(Y,eta)-np.sum(np.log(1+np.exp(eta))))\n",
    "\n",
    "def f_grad(X,Y,theta):\n",
    "    mu=1/(1+np.exp(-np.dot(X,theta)))\n",
    "    return (np.dot(X.T,Y-mu))\n",
    "\n",
    "def predict(theta,X):\n",
    "    y =1/(1+np.exp(-np.dot(X,theta)))\n",
    "    return np.array((y.T>0.5).reshape(-1)).astype(int)\n",
    "\n",
    "def constraints(X,theta,z):\n",
    "    length=z.shape\n",
    "    return np.array([np.dot(z,np.dot(X,theta))/length-c,-np.dot(z,np.dot(X,theta))/length-c]).reshape(-1)\n",
    "\n",
    "def g_grad(X,z):\n",
    "    length=z.shape\n",
    "    return np.array([np.dot(z,X)/length,-np.dot(z,X)/length])"
   ]
  },
  {
   "cell_type": "code",
   "execution_count": 264,
   "id": "a34af995",
   "metadata": {},
   "outputs": [],
   "source": [
    "theta_0=np.ones(p)\n",
    "Z=sensitive.values\n",
    "Z=Z-Z.mean()\n",
    "Z_train=Z[:num_train]\n",
    "Z_test=Z[num_train:]\n",
    "c=1.0"
   ]
  },
  {
   "cell_type": "code",
   "execution_count": 265,
   "id": "d205ae4f",
   "metadata": {},
   "outputs": [
    {
     "data": {
      "text/plain": [
       "63202.173581378025"
      ]
     },
     "execution_count": 265,
     "metadata": {},
     "output_type": "execute_result"
    }
   ],
   "source": []
  },
  {
   "cell_type": "code",
   "execution_count": 267,
   "id": "e18ab8e5",
   "metadata": {},
   "outputs": [],
   "source": []
  },
  {
   "cell_type": "code",
   "execution_count": 290,
   "id": "da69ad22",
   "metadata": {},
   "outputs": [],
   "source": [
    "def algorithm(X,Y,z,T,C):\n",
    "    lam=np.array([1.0,1.0])\n",
    "    theta=theta_p=theta_pp=theta_0\n",
    "    tau=C/math.sqrt(T)\n",
    "    eta=C/math.sqrt(T)\n",
    "    for i in range(T):\n",
    "        \n",
    "        u=2*(constraints(X,theta_p,z)+np.dot(g_grad(X,z),(theta-theta_p)))-(constraints(X,theta_pp,z)+np.dot(g_grad(X,z),(theta_p-theta_pp)))\n",
    "        u=2*constraints(X,theta,z)-constraints(X,theta_p,z)\n",
    "        lam=lam+tau*u\n",
    "        theta_pp=theta_p\n",
    "        theta_p=theta\n",
    "        theta=theta+eta*(f_grad(X,Y,theta)+np.dot(lam,g_grad(X,z)))\n",
    "        theta=theta+eta*f_grad(X,Y,theta)\n",
    "        if(i%10==0):\n",
    "            pred=predict(theta,test_data)\n",
    "            print(sklearn.metrics.accuracy_score(pred,test_labels))\n",
    "            print(constraints(test_data,theta,Z_test))\n",
    "        \n",
    "    return theta\n",
    "                                                                    "
   ]
  },
  {
   "cell_type": "code",
   "execution_count": 291,
   "id": "9e6976ed",
   "metadata": {},
   "outputs": [
    {
     "name": "stdout",
     "output_type": "stream",
     "text": [
      "0.7131625821509735\n",
      "[-1.55486726 -0.44513274]\n",
      "0.728579325594251\n",
      "[-1.29185285 -0.70814715]\n",
      "0.7695473251028807\n",
      "[-1.29499323 -0.70500677]\n",
      "0.7967569559609361\n",
      "[-1.3079621 -0.6920379]\n",
      "0.809225477550519\n",
      "[-1.32127949 -0.67872051]\n",
      "0.8163503470302806\n",
      "[-1.33311853 -0.66688147]\n",
      "0.8200970456360175\n",
      "[-1.34381262 -0.65618738]\n",
      "0.822369633314907\n",
      "[-1.35356556 -0.64643444]\n",
      "0.8245807997051778\n",
      "[-1.36236115 -0.63763885]\n",
      "0.8256249616116946\n",
      "[-1.37022416 -0.62977584]\n",
      "0.8264234383637369\n",
      "[-1.37722346 -0.62277654]\n",
      "0.826914808672686\n",
      "[-1.38344352 -0.61655648]\n",
      "0.827406178981635\n",
      "[-1.3889691 -0.6110309]\n",
      "0.8277132854247282\n",
      "[-1.39387903 -0.60612097]\n",
      "0.8283889195995332\n",
      "[-1.39824433 -0.60175567]\n",
      "0.8291259750629568\n",
      "[-1.40212796 -0.59787204]\n",
      "0.8288188686198636\n",
      "[-1.40558545 -0.59441455]\n",
      "0.8288802899084823\n",
      "[-1.40866558 -0.59133442]\n",
      "0.8294945027946686\n",
      "[-1.41141124 -0.58858876]\n",
      "0.8299858731036177\n",
      "[-1.41386015 -0.58613985]\n"
     ]
    }
   ],
   "source": [
    "Beta=algorithm(train_data,train_labels,Z_train,200,0.001)"
   ]
  },
  {
   "cell_type": "code",
   "execution_count": 279,
   "id": "500cd10d",
   "metadata": {},
   "outputs": [
    {
     "name": "stdout",
     "output_type": "stream",
     "text": [
      "0.8299858731036177\n"
     ]
    }
   ],
   "source": [
    "pred=predict(Beta,test_data)\n",
    "print(sklearn.metrics.accuracy_score(pred,test_labels))"
   ]
  },
  {
   "cell_type": "code",
   "execution_count": null,
   "id": "96842b82",
   "metadata": {},
   "outputs": [],
   "source": []
  },
  {
   "cell_type": "code",
   "execution_count": null,
   "id": "730cd48f",
   "metadata": {},
   "outputs": [],
   "source": []
  }
 ],
 "metadata": {
  "kernelspec": {
   "display_name": "Python 3 (ipykernel)",
   "language": "python",
   "name": "python3"
  },
  "language_info": {
   "codemirror_mode": {
    "name": "ipython",
    "version": 3
   },
   "file_extension": ".py",
   "mimetype": "text/x-python",
   "name": "python",
   "nbconvert_exporter": "python",
   "pygments_lexer": "ipython3",
   "version": "3.9.12"
  }
 },
 "nbformat": 4,
 "nbformat_minor": 5
}
